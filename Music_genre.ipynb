{
  "nbformat": 4,
  "nbformat_minor": 0,
  "metadata": {
    "colab": {
      "provenance": [],
      "authorship_tag": "ABX9TyN8SyMFEWGDlYkHOumOWbXD",
      "include_colab_link": true
    },
    "kernelspec": {
      "name": "python3",
      "display_name": "Python 3"
    },
    "language_info": {
      "name": "python"
    }
  },
  "cells": [
    {
      "cell_type": "markdown",
      "metadata": {
        "id": "view-in-github",
        "colab_type": "text"
      },
      "source": [
        "<a href=\"https://colab.research.google.com/github/vengatesanb17/AI_Sample_models/blob/main/Music_genre.ipynb\" target=\"_parent\"><img src=\"https://colab.research.google.com/assets/colab-badge.svg\" alt=\"Open In Colab\"/></a>"
      ]
    },
    {
      "cell_type": "code",
      "source": [
        "import os\n",
        "import pandas as pd\n",
        "from sklearn.tree import DecisionTreeClassifier\n",
        "from sklearn import tree\n",
        "\n",
        "file_path = r'music.csv'\n",
        "\n",
        "music_table = pd.read_csv(file_path)\n",
        "Age = music_table.drop(columns=['genre'])\n",
        "Gender = music_table['genre']\n",
        "\n",
        "model_alg = DecisionTreeClassifier()\n",
        "model_alg.fit(Age, Gender)\n",
        "\n",
        "predictions = model_alg.predict([ [80, 0],[7, 0]])\n",
        "predictions"
      ],
      "metadata": {
        "colab": {
          "base_uri": "https://localhost:8080/"
        },
        "id": "88-WWfMK6n1X",
        "outputId": "d32fddf1-0a76-4095-f55a-f92267448229"
      },
      "execution_count": null,
      "outputs": [
        {
          "output_type": "stream",
          "name": "stderr",
          "text": [
            "/usr/local/lib/python3.10/dist-packages/sklearn/base.py:439: UserWarning: X does not have valid feature names, but DecisionTreeClassifier was fitted with feature names\n",
            "  warnings.warn(\n"
          ]
        },
        {
          "output_type": "execute_result",
          "data": {
            "text/plain": [
              "array(['Classical', 'HipHop'], dtype=object)"
            ]
          },
          "metadata": {},
          "execution_count": 9
        }
      ]
    },
    {
      "cell_type": "code",
      "source": [
        "import os\n",
        "import pandas as pd\n",
        "from sklearn.tree import DecisionTreeClassifier\n",
        "from sklearn import tree\n",
        "\n",
        "tree.export_graphviz(model_alg, out_file='DT_graphicalchart.dot',\n",
        "                     feature_names=['Age', 'Gender'],\n",
        "                     class_names=sorted(Gender.unique()),\n",
        "                     label='all',\n",
        "                     rounded=True,\n",
        "                     filled=True)"
      ],
      "metadata": {
        "id": "VukhRUTUhzDa"
      },
      "execution_count": null,
      "outputs": []
    }
  ]
}